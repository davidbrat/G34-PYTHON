{
 "cells": [
  {
   "cell_type": "markdown",
   "id": "6980cdc2-3a56-4112-8e81-71f49de241e3",
   "metadata": {},
   "source": [
    "22-04-25"
   ]
  },
  {
   "cell_type": "code",
   "execution_count": null,
   "id": "0a3b399f-292a-4d4f-8447-849c6a528889",
   "metadata": {},
   "outputs": [],
   "source": [
    "1)Q1. Write a Python program that takes a sentence as input and returns a dictionary where the\n",
    "keys are vowels and the values are the number of times each vowel appears in the sentence.\n",
    "Ignore case."
   ]
  },
  {
   "cell_type": "code",
   "execution_count": 1,
   "id": "1bce9606-1ae6-4d8e-b2e4-60f8fb72dbc1",
   "metadata": {},
   "outputs": [
    {
     "name": "stdout",
     "output_type": "stream",
     "text": [
      "{'a': 2, 'e': 1, 'i': 3, 'o': 2, 'u': 1}\n"
     ]
    }
   ],
   "source": [
    "def count_vowels(sentence):\n",
    "    vowels = \"aeiou\"\n",
    "    sentence = sentence.lower()\n",
    "    vowel_count = {v: 0 for v in vowels}\n",
    "\n",
    "    for char in sentence:\n",
    "        if char in vowels:\n",
    "            vowel_count[char] += 1\n",
    "\n",
    "    \n",
    "    return {k: v for k, v in vowel_count.items() if v > 0}\n",
    "\n",
    "\n",
    "sentence = \"Education is important\"\n",
    "print(count_vowels(sentence))\n"
   ]
  },
  {
   "cell_type": "code",
   "execution_count": null,
   "id": "57c9e672-5b0f-47e2-9383-31826b30a941",
   "metadata": {},
   "outputs": [],
   "source": [
    "Q2. Write a function that checks if a given number is a palindrome. Then write another function\n",
    "that prints all palindrome numbers between two given numbers (inclusive).\n"
   ]
  },
  {
   "cell_type": "code",
   "execution_count": 2,
   "id": "e62e8b0a-ccb0-40a9-9109-b6a6b1433453",
   "metadata": {},
   "outputs": [
    {
     "name": "stdout",
     "output_type": "stream",
     "text": [
      "101 111 121 131 141 "
     ]
    }
   ],
   "source": [
    "def is_palindrome(number):\n",
    "    return str(number) == str(number)[::-1]\n",
    "\n",
    "def print_palindromes(start, end):\n",
    "    for num in range(start, end + 1):\n",
    "        if is_palindrome(num):\n",
    "            print(num, end=' ')\n",
    "\n",
    "\n",
    "print_palindromes(100, 150)\n"
   ]
  },
  {
   "cell_type": "code",
   "execution_count": null,
   "id": "f13cc2e9-a68f-4b88-8624-cf94a87ac2f7",
   "metadata": {},
   "outputs": [],
   "source": [
    "Q3. Create a class Employee with attributes emp_id, name, and salary. Write methods to:\n",
    "• Display employee details\n",
    "• Write the details to a file named employee_data.txt in CSV format\n",
    "• Read from the file and display the content"
   ]
  },
  {
   "cell_type": "code",
   "execution_count": 3,
   "id": "bbee52d3-98d1-4de4-8769-a5353a93136b",
   "metadata": {},
   "outputs": [
    {
     "name": "stdout",
     "output_type": "stream",
     "text": [
      "ID: 101, Name: Alice, Salary: 50000\n",
      "ID, Name, Salary\n",
      "101, Alice, 50000\n"
     ]
    }
   ],
   "source": [
    "import csv\n",
    "\n",
    "class Employee:\n",
    "    def __init__(self, emp_id, name, salary):\n",
    "        self.emp_id = emp_id\n",
    "        self.name = name\n",
    "        self.salary = salary\n",
    "\n",
    "    def display_details(self):\n",
    "        print(f\"ID: {self.emp_id}, Name: {self.name}, Salary: {self.salary}\")\n",
    "\n",
    "    def write_to_file(self, filename='eployee_data.txt'):\n",
    "        with open(filename, 'w', newline='') as file:\n",
    "            writer = csv.writer(file)\n",
    "            writer.writerow(['ID', 'Name', 'Salary'])\n",
    "            writer.writerow([self.emp_id, self.name, self.salary])\n",
    "\n",
    "    @staticmethod\n",
    "    def read_from_file(filename='eployee_data.txt'):\n",
    "        with open(filename, 'r') as file:\n",
    "            reader = csv.reader(file)\n",
    "            for row in reader:\n",
    "                print(', '.join(row))\n",
    "\n",
    "\n",
    "emp = Employee(101, \"Alice\", 50000)\n",
    "emp.display_details()\n",
    "emp.write_to_file()\n",
    "Employee.read_from_file()\n"
   ]
  },
  {
   "cell_type": "code",
   "execution_count": null,
   "id": "3f050b82-e441-4101-b9d3-5c59e16d14ac",
   "metadata": {},
   "outputs": [],
   "source": [
    "Q4. Create a class LogAnalyzer that reads a file called log.txt, counts the number of lines that contain\n",
    "the word \"error\" (case-insensitive), and prints the count. Include proper function(s) and file\n",
    "handling. Assume log.txt contains multiple lines.\n"
   ]
  },
  {
   "cell_type": "code",
   "execution_count": 5,
   "id": "9d06c5ca-c5db-41ce-b3f6-4849ab289371",
   "metadata": {},
   "outputs": [
    {
     "name": "stdout",
     "output_type": "stream",
     "text": [
      "Number of lines with 'error': 4\n"
     ]
    }
   ],
   "source": [
    "class LogAnalyzer:\n",
    "    def __init__(self, filename='log.txt'):\n",
    "        self.filename = filename\n",
    "\n",
    "    def count_errors(self):\n",
    "        error_count = 0\n",
    "        with open(self.filename, 'r') as file:\n",
    "            for line in file:\n",
    "                if \"error\" in line.lower():\n",
    "                    error_count += 1\n",
    "        print(f\"Number of lines with 'error': {error_count}\")\n",
    "\n",
    "\n",
    "analyzer = LogAnalyzer()\n",
    "analyzer.count_errors()\n"
   ]
  }
 ],
 "metadata": {
  "kernelspec": {
   "display_name": "Python 3 (ipykernel)",
   "language": "python",
   "name": "python3"
  },
  "language_info": {
   "codemirror_mode": {
    "name": "ipython",
    "version": 3
   },
   "file_extension": ".py",
   "mimetype": "text/x-python",
   "name": "python",
   "nbconvert_exporter": "python",
   "pygments_lexer": "ipython3",
   "version": "3.11.8"
  }
 },
 "nbformat": 4,
 "nbformat_minor": 5
}
